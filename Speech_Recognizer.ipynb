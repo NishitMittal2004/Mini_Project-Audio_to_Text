{
  "nbformat": 4,
  "nbformat_minor": 0,
  "metadata": {
    "colab": {
      "provenance": [],
      "include_colab_link": true
    },
    "kernelspec": {
      "name": "python3",
      "display_name": "Python 3"
    },
    "language_info": {
      "name": "python"
    }
  },
  "cells": [
    {
      "cell_type": "markdown",
      "metadata": {
        "id": "view-in-github",
        "colab_type": "text"
      },
      "source": [
        "<a href=\"https://colab.research.google.com/github/NishitMittal2004/Mini_Project-Audio_to_Text/blob/main/Speech_Recognizer.ipynb\" target=\"_parent\"><img src=\"https://colab.research.google.com/assets/colab-badge.svg\" alt=\"Open In Colab\"/></a>"
      ]
    },
    {
      "cell_type": "markdown",
      "source": [
        "# **Mini Project - Audio to Text**\n"
      ],
      "metadata": {
        "id": "-I2hHab7VeGA"
      }
    },
    {
      "cell_type": "markdown",
      "source": [
        "---\n",
        "## Importing Libraries\n",
        "---"
      ],
      "metadata": {
        "id": "fyrP3pbR5RvT"
      }
    },
    {
      "cell_type": "code",
      "source": [
        "pip install SpeechRecognition pydub"
      ],
      "metadata": {
        "id": "-P5_vV-8Iwon",
        "colab": {
          "base_uri": "https://localhost:8080/"
        },
        "outputId": "e64b16de-6150-44e2-e4e0-32eb22cce7b2"
      },
      "execution_count": 1,
      "outputs": [
        {
          "output_type": "stream",
          "name": "stdout",
          "text": [
            "Looking in indexes: https://pypi.org/simple, https://us-python.pkg.dev/colab-wheels/public/simple/\n",
            "Collecting SpeechRecognition\n",
            "  Downloading SpeechRecognition-3.10.0-py2.py3-none-any.whl (32.8 MB)\n",
            "\u001b[2K     \u001b[90m━━━━━━━━━━━━━━━━━━━━━━━━━━━━━━━━━━━━━━━━\u001b[0m \u001b[32m32.8/32.8 MB\u001b[0m \u001b[31m44.8 MB/s\u001b[0m eta \u001b[36m0:00:00\u001b[0m\n",
            "\u001b[?25hCollecting pydub\n",
            "  Downloading pydub-0.25.1-py2.py3-none-any.whl (32 kB)\n",
            "Requirement already satisfied: requests>=2.26.0 in /usr/local/lib/python3.10/dist-packages (from SpeechRecognition) (2.27.1)\n",
            "Requirement already satisfied: urllib3<1.27,>=1.21.1 in /usr/local/lib/python3.10/dist-packages (from requests>=2.26.0->SpeechRecognition) (1.26.15)\n",
            "Requirement already satisfied: certifi>=2017.4.17 in /usr/local/lib/python3.10/dist-packages (from requests>=2.26.0->SpeechRecognition) (2022.12.7)\n",
            "Requirement already satisfied: charset-normalizer~=2.0.0 in /usr/local/lib/python3.10/dist-packages (from requests>=2.26.0->SpeechRecognition) (2.0.12)\n",
            "Requirement already satisfied: idna<4,>=2.5 in /usr/local/lib/python3.10/dist-packages (from requests>=2.26.0->SpeechRecognition) (3.4)\n",
            "Installing collected packages: pydub, SpeechRecognition\n",
            "Successfully installed SpeechRecognition-3.10.0 pydub-0.25.1\n"
          ]
        }
      ]
    },
    {
      "cell_type": "code",
      "execution_count": 2,
      "metadata": {
        "id": "_ByUN1zE2_gE"
      },
      "outputs": [],
      "source": [
        "import speech_recognition as sr\n",
        "import os\n",
        "import subprocess\n",
        "from google.colab import files\n",
        "from pydub import AudioSegment\n",
        "from pydub.silence import split_on_silence"
      ]
    },
    {
      "cell_type": "markdown",
      "source": [
        "---\n",
        "##Upload Audio File\n",
        "---"
      ],
      "metadata": {
        "id": "Ij-3BYvJmqco"
      }
    },
    {
      "cell_type": "code",
      "source": [
        "files.upload()"
      ],
      "metadata": {
        "id": "WlD1Mwjvlg6p"
      },
      "execution_count": null,
      "outputs": []
    },
    {
      "cell_type": "markdown",
      "source": [
        "---\n",
        "##Convert Mp3 to Wav format\n",
        "---"
      ],
      "metadata": {
        "id": "_xRgWlFnmuR3"
      }
    },
    {
      "cell_type": "code",
      "source": [
        "# convert mp3 to wav file\n",
        "subprocess.call(['ffmpeg', '-i', 'Audio.mp3','wav_file.wav'])"
      ],
      "metadata": {
        "id": "nT5WPLM_k45I",
        "colab": {
          "base_uri": "https://localhost:8080/"
        },
        "outputId": "b16cad9e-afc0-4d33-9362-3ea419c05ab9"
      },
      "execution_count": 4,
      "outputs": [
        {
          "output_type": "execute_result",
          "data": {
            "text/plain": [
              "0"
            ]
          },
          "metadata": {},
          "execution_count": 4
        }
      ]
    },
    {
      "cell_type": "markdown",
      "source": [
        "---\n",
        "## Main Function\n",
        "---"
      ],
      "metadata": {
        "id": "HVftl1_Cm3Ev"
      }
    },
    {
      "cell_type": "code",
      "source": [
        "# initialize the recognizer\n",
        "r = sr.Recognizer()\n",
        "\n",
        "# a function that splits the audio file into chunks\n",
        "# and applies speech recognition\n",
        "\n",
        "def get_large_audio_transcription(path):\n",
        "    \"\"\"\n",
        "    Splitting the large audio file into chunks\n",
        "    and apply speech recognition on each of these chunks\n",
        "    \"\"\"\n",
        "    # open the audio file using pydub\n",
        "    sound = AudioSegment.from_wav(path)\n",
        "    # split audio sound where silence is 700 miliseconds or more and get chunks\n",
        "    chunks = split_on_silence(sound,\n",
        "        # experiment with this value for your target audio file\n",
        "        min_silence_len = 500,\n",
        "        # adjust this per requirement\n",
        "        silence_thresh = sound.dBFS-14,\n",
        "        # keep the silence for 1 second, adjustable as well\n",
        "        keep_silence=500,\n",
        "    )\n",
        "    folder_name = \"audio-chunks\"\n",
        "    # create a directory to store the audio chunks\n",
        "    if not os.path.isdir(folder_name):\n",
        "        os.mkdir(folder_name)\n",
        "    whole_text = \"\"\n",
        "    # process each chunk\n",
        "    for i, audio_chunk in enumerate(chunks, start=1):\n",
        "        # export audio chunk and save it in\n",
        "        # the `folder_name` directory.\n",
        "        chunk_filename = os.path.join(folder_name, f\"chunk{i}.wav\")\n",
        "        audio_chunk.export(chunk_filename, format=\"wav\")\n",
        "        # recognize the chunk\n",
        "        with sr.AudioFile(chunk_filename) as source:\n",
        "            audio_listened = r.record(source)\n",
        "            # try converting it to text\n",
        "            try:\n",
        "                text = r.recognize_google(audio_listened)\n",
        "            except sr.UnknownValueError as e:\n",
        "                print(\"Error:\", str(e))\n",
        "            else:\n",
        "                text = f\"{text.capitalize()}. \"\n",
        "                print(chunk_filename, \":\", text)\n",
        "                whole_text += text\n",
        "    # return the text for all chunks detected\n",
        "    return whole_text"
      ],
      "metadata": {
        "id": "GRusdZC34y4t"
      },
      "execution_count": 5,
      "outputs": []
    },
    {
      "cell_type": "code",
      "source": [
        "path = \"/content/wav_file.wav\"\n",
        "print(\"\\nFull text:\", get_large_audio_transcription(path))"
      ],
      "metadata": {
        "id": "ZVlNFunj8Guh",
        "colab": {
          "base_uri": "https://localhost:8080/"
        },
        "outputId": "6b8aafe0-0ca3-479f-fd48-a9f258df6d58"
      },
      "execution_count": 6,
      "outputs": [
        {
          "output_type": "stream",
          "name": "stdout",
          "text": [
            "audio-chunks/chunk1.wav : Day 8. \n",
            "audio-chunks/chunk2.wav : 1. \n",
            "audio-chunks/chunk3.wav : Describing a person. \n",
            "audio-chunks/chunk4.wav : Qcard. \n",
            "audio-chunks/chunk5.wav : Describe a famous person you would like to meet. \n",
            "audio-chunks/chunk6.wav : You should say who it is. \n",
            "audio-chunks/chunk7.wav : What they are famous for. \n",
            "audio-chunks/chunk8.wav : What you would do if you meet them. \n",
            "audio-chunks/chunk9.wav : And explain why you would like to meet them. \n",
            "audio-chunks/chunk10.wav : Sample answer. \n",
            "audio-chunks/chunk11.wav : Well the person i'd like to meet most is johnny mo. \n",
            "audio-chunks/chunk12.wav : Who is a very famous film director in china. \n",
            "audio-chunks/chunk13.wav : I've always admired him. \n",
            "audio-chunks/chunk14.wav : He's a man of average height in his photos i think. \n",
            "audio-chunks/chunk15.wav : So far he has directed many good films. \n",
            "audio-chunks/chunk16.wav : He's well-known in china for his versatile talents. \n",
            "audio-chunks/chunk17.wav : First of all he's a famous director. \n",
            "audio-chunks/chunk18.wav : Most of his films have won the international prizes. \n",
            "audio-chunks/chunk19.wav : And the actresses who have appeared in his films with consequently become popular as well. \n",
            "audio-chunks/chunk20.wav : I liked his film the road home. \n",
            "audio-chunks/chunk21.wav : Which describes how a young teacher and the go. \n",
            "audio-chunks/chunk22.wav : Fell in love. \n",
            "audio-chunks/chunk23.wav : And how they works and then joy that life in a small village. \n",
            "audio-chunks/chunk24.wav : It's really touching with very good photography. \n",
            "audio-chunks/chunk25.wav : And nice music. \n",
            "audio-chunks/chunk26.wav : In spite of the simple plot. \n",
            "audio-chunks/chunk27.wav : Apart from his directing. \n",
            "audio-chunks/chunk28.wav : He has appeared in many films as the main character. \n",
            "audio-chunks/chunk29.wav : Which always give people a very deep impression. \n",
            "audio-chunks/chunk30.wav : I clearly remember one film in which he played the role of a terracotta warrior who came back to life and gold involved in a love affair with a woman. \n",
            "audio-chunks/chunk31.wav : In recent years instead of depicting the uncivilized and backwood life in the country areas. \n",
            "audio-chunks/chunk32.wav : He has made great efforts to publicize chinese culture. \n",
            "audio-chunks/chunk33.wav : One of his famous works is a short documentary assisting china to bid for the 2008 olympic games. \n",
            "audio-chunks/chunk34.wav : It's quite spectacular. \n",
            "audio-chunks/chunk35.wav : He is the kind of person i would really like to meet. \n",
            "audio-chunks/chunk36.wav : As he's a very good example of success through unfailing effort perseverance and struggle. \n",
            "audio-chunks/chunk37.wav : If i met him i'd like to ask him about how he has succeeded against the logs. \n",
            "audio-chunks/chunk38.wav : I also like to get some advice as to how to achieve self-fulfillment as he has done. \n",
            "\n",
            "Full text: Day 8. 1. Describing a person. Qcard. Describe a famous person you would like to meet. You should say who it is. What they are famous for. What you would do if you meet them. And explain why you would like to meet them. Sample answer. Well the person i'd like to meet most is johnny mo. Who is a very famous film director in china. I've always admired him. He's a man of average height in his photos i think. So far he has directed many good films. He's well-known in china for his versatile talents. First of all he's a famous director. Most of his films have won the international prizes. And the actresses who have appeared in his films with consequently become popular as well. I liked his film the road home. Which describes how a young teacher and the go. Fell in love. And how they works and then joy that life in a small village. It's really touching with very good photography. And nice music. In spite of the simple plot. Apart from his directing. He has appeared in many films as the main character. Which always give people a very deep impression. I clearly remember one film in which he played the role of a terracotta warrior who came back to life and gold involved in a love affair with a woman. In recent years instead of depicting the uncivilized and backwood life in the country areas. He has made great efforts to publicize chinese culture. One of his famous works is a short documentary assisting china to bid for the 2008 olympic games. It's quite spectacular. He is the kind of person i would really like to meet. As he's a very good example of success through unfailing effort perseverance and struggle. If i met him i'd like to ask him about how he has succeeded against the logs. I also like to get some advice as to how to achieve self-fulfillment as he has done. \n"
          ]
        }
      ]
    }
  ]
}